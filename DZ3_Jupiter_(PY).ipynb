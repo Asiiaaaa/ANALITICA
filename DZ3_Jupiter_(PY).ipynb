{
  "nbformat": 4,
  "nbformat_minor": 0,
  "metadata": {
    "colab": {
      "provenance": [],
      "authorship_tag": "ABX9TyM8h4k5Hkb3hIU3fC09XIFv",
      "include_colab_link": true
    },
    "kernelspec": {
      "name": "python3",
      "display_name": "Python 3"
    },
    "language_info": {
      "name": "python"
    }
  },
  "cells": [
    {
      "cell_type": "markdown",
      "metadata": {
        "id": "view-in-github",
        "colab_type": "text"
      },
      "source": [
        "<a href=\"https://colab.research.google.com/github/Asiiaaaa/ANALITICA/blob/main/DZ3_Jupiter_(PY).ipynb\" target=\"_parent\"><img src=\"https://colab.research.google.com/assets/colab-badge.svg\" alt=\"Open In Colab\"/></a>"
      ]
    },
    {
      "cell_type": "code",
      "execution_count": null,
      "metadata": {
        "id": "3YLhTv6OiEnE"
      },
      "outputs": [],
      "source": []
    },
    {
      "cell_type": "markdown",
      "source": [
        "**Задача 1.** Данные находятся в файле kc_house_data.csv.\n",
        "\n",
        "Считать данные с помощью pandas.\n",
        "\n",
        "Вывести на экран первые 5 строк.\n",
        "\n",
        "Создать новый признак price_per_sq_lot, который будет содержать avg = среднюю стоимость за один кв. метр общей площади.\n",
        "\n",
        "Создать новый признак delta_renovated, который будет содержать разницу в годах между годом реновации дома и годом постройки дома и сохраните в renv. Если реновации дома не было, то в новом признаке поставьте 0.\n",
        "\n",
        "Создайте признаки года продажи, месяца продажи и сохраните в year_ch, month_ch.\n",
        "\n",
        "Удалите признаки date, zipcode, lat, long и сохраните в new."
      ],
      "metadata": {
        "id": "1MG3QH_EiFtj"
      }
    },
    {
      "cell_type": "code",
      "source": [
        "import pandas as pd\n",
        "df = pd.read_csv('/content/sample_data/kc_house_data.csv', sep =',')\n",
        "stroki = df.head()\n",
        "avg = df['price_per_sq_lot'] = df['price'] / df['sqft_lot']\n",
        "df['delta_renovared'] = df['yr_renovated'] - df['yr_built']\n",
        "renv = df['delta_renovared'] = df['delta_renovared'].apply(lambda x: x if x > 0 else 0)\n",
        "year_ch = df['year'] = df['date'].apply(lambda x: int(x[:4]))\n",
        "month_ch = df ['month']=df['date'].apply(lambda x: int(x[4:6]))\n",
        "new = df.drop(columns=['date','zipcode', 'lat', 'long'], inplace=True)\n"
      ],
      "metadata": {
        "id": "TCo-XeGIiTJy"
      },
      "execution_count": null,
      "outputs": []
    },
    {
      "cell_type": "markdown",
      "source": [
        "**Задача.2**\n",
        "\n",
        "Создайте датафрейм с клиентами и сохраните его в clients.\n",
        "'client_id': [1459, 4684, 3498, 3942, 4535, 2308, 2866, 2765, 1472, 4236, 2295, 939, 3840, 280, 20, 4332, 3475, 4213, 3113, 4809, 2134, 2242, 2068, 4929, 1384, 1589, 3317, 2260, 1727, 1764, 1611, 1474], 'house_id': [8965450190, 6823100225, 5104540330, 2131701075, 1522700060, 1189000207, 6821600300, 7137950720, 9510920050, 6131600255, 5428000070, 1788800910, 8100400160, 3123049142, 6306800010, 5083000375, 7920100025, 1951600150, 809001400, 339600110, 1622049154, 1099600250, 8563000110, 2768100205, 3995700435, 8861700030, 3303980210, 7731100066, 8146100580, 825069097, 3889100029, 9524100196]\n",
        "\n",
        "Присоедините к таблице clients данные по домам через метод join и сохраните в 'joined'.\n",
        "\n",
        "Данные находятся в файле kc_house_data.csv. Это нужно, чтобы понимать, какие дома покупались клиентами.\n",
        "house_id - это индексы датафрейма с домами.\n",
        "\n",
        "Присоедините к таблице clients данные по домам через метод merge и сохраните в merged.\n",
        "\n",
        "Это нужно, чтобы понимать, какие дома покупались клиентами.\n",
        "house_id - это индексы датафрейма с домами."
      ],
      "metadata": {
        "id": "xo6kDShrj9lN"
      }
    },
    {
      "cell_type": "code",
      "source": [
        "import pandas as pd\n",
        "df = pd.read_csv('/content/sample_data/kc_house_data.csv')\n",
        "clients = pd.DataFrame({\n",
        "    'client_id': [1459, 4684, 3498, 3942, 4535, 2308, 2866, 2765, 1472, 4236, 2295, 939, 3840, 280, 20, 4332, 3475, 4213, 3113, 4809, 2134, 2242, 2068, 4929, 1384, 1589, 3317, 2260, 1727, 1764, 1611, 1474],\n",
        "    'house_id':\n",
        "[\n",
        "    8965450190, 6823100225, 5104540330, 2131701075, 1522700060, 1189000207,\n",
        "    6821600300, 7137950720, 9510920050, 6131600255, 5428000070, 1788800910,\n",
        "    8100400160, 3123049142, 6306800010, 5083000375, 7920100025, 1951600150,\n",
        "    809001400, 339600110, 1622049154, 1099600250, 8563000110, 2768100205,\n",
        "    3995700435, 8861700030, 3303980210, 7731100066, 8146100580, 825069097,\n",
        "    3889100029, 9524100196\n",
        "]\n",
        "})\n",
        "\n",
        "clients_house_id = clients.set_index('house_id')\n",
        "\n",
        "df_idx = df.set_index('id')\n",
        "\n",
        "joined = clients_house_id.join(df_idx)\n",
        "\n",
        "merged = clients.merge(df, left_on='house_id', right_on='id')\n"
      ],
      "metadata": {
        "id": "kLlzSrURkGUE"
      },
      "execution_count": null,
      "outputs": []
    },
    {
      "cell_type": "markdown",
      "source": [
        "**Задача. 3**\n",
        "\n",
        "Составьте несколько сводных таблиц.\n",
        "Данные находятся в файле kc_house_data.csv.\n",
        "\n",
        "среднюю стоимость домов в зависимости от количества спален и сохраните в avg.\n",
        "Отсортируйте от меньшей стоимости к большей.\n",
        "\n",
        "Найдите минимальную min, среднюю mean и максимальную max стоимости домов в зависимости от состояния дома и сохраните в price.\n",
        "\n",
        "Постройте таблицу с подсчетом количества домов в данных в зависимости от вида на набережную waterfront и оценкой вида view и сохраните ее в view_waterfront.\n",
        "\n",
        "Каких домов в зависимости от этажности и количества спален больше? Постройте эту таблицу, содержащую в себе информацию о спальнях и этажности, и сохраните ее в bedrooms_floors.\n",
        "\n",
        "Постройте таблицу с подсчетом медианной стоимости домов в данных в зависимости от состояния дома и оценки дома и сохраните в 'median_price'."
      ],
      "metadata": {
        "id": "04f7ODvukxMV"
      }
    },
    {
      "cell_type": "code",
      "source": [
        "import pandas as pd\n",
        "df = pd.read_csv('/content/sample_data/kc_house_data.csv')\n",
        "\n",
        "# 1. Средняя стоимость домов в зависимости от количества спален (отсортирована от меньшей к большей)\n",
        "avg = df.groupby('bedrooms').agg({'price':'mean'}).sort_values('price')\n",
        "\n",
        "# 2. Минимальная, средняя и максимальная стоимости домов в зависимости от состояния дома\n",
        "price = df.groupby('condition').agg({'price':['min', 'mean', 'max']})\n",
        "\n",
        "# 3. Таблица с подсчетом количества домов в зависимости от видов на набережную и оценок вида\n",
        "view_waterfront = df.pivot_table(index='waterfront', columns='view', values='condition', aggfunc='count', fill_value=0)\n",
        "\n",
        "# 4. Таблица с подсчетом количества домов в зависимости от этажности и количества спален\n",
        "bedrooms_floors = pd.crosstab(index=df['floors'], columns=df['bedrooms'])\n",
        "\n",
        "# 5. Таблица с медианной стоимостью домов в зависимости от состояния дома и оценки дома\n",
        "median_price = df.pivot_table(index='condition', columns='grade', values='price', aggfunc='median', fill_value=0)\n",
        "\n"
      ],
      "metadata": {
        "id": "2CqD_u9zmF4I"
      },
      "execution_count": null,
      "outputs": []
    }
  ]
}